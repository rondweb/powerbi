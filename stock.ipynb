{
 "cells": [
  {
   "cell_type": "markdown",
   "id": "15795259-a509-4d53-823b-d5704d476e8b",
   "metadata": {},
   "source": [
    "Installing the packages"
   ]
  },
  {
   "cell_type": "code",
   "execution_count": null,
   "id": "476f9371-2b91-4a9d-8d1d-c557cb7b926b",
   "metadata": {},
   "outputs": [],
   "source": [
    "!pip install pandas_datareader pandas bs4 matplotlib mitosheet jupyterlab"
   ]
  },
  {
   "cell_type": "markdown",
   "id": "5d56ef37-e483-49de-9c09-1d2d59a550df",
   "metadata": {},
   "source": [
    "Importing the packages"
   ]
  },
  {
   "cell_type": "code",
   "execution_count": 2,
   "id": "4c049040-75de-40eb-a901-036ef8ee8a64",
   "metadata": {},
   "outputs": [],
   "source": [
    "import pandas_datareader as data\n",
    "import pandas as pd\n",
    "from datetime import datetime\n",
    "import requests\n",
    "from bs4 import BeautifulSoup\n",
    "from dateutil.relativedelta import relativedelta"
   ]
  },
  {
   "cell_type": "markdown",
   "id": "c83938a6-d4bf-4c81-8c81-a78d983c00fd",
   "metadata": {},
   "source": [
    "Some url's that we can use to filter the stocks"
   ]
  },
  {
   "cell_type": "code",
   "execution_count": 35,
   "id": "96bec566-3667-4a70-ae37-537b3d10ad05",
   "metadata": {},
   "outputs": [],
   "source": [
    "stocks_country=\"https://companiesmarketcap.com/brazil/largest-companies-in-brazil-by-market-cap/\"\n",
    "stocks_category = \"https://companiesmarketcap.com/food/largest-food-companies-by-market-cap/\"\n",
    "stocks_cap = \"https://companiesmarketcap.com/apple/marketcap/\"\n",
    "stocks_it_market_cap = \"https://companiesmarketcap.com/tech/largest-tech-companies-by-market-cap/\""
   ]
  },
  {
   "cell_type": "markdown",
   "id": "ba3b34e2-7531-4f97-828d-0b08145284e1",
   "metadata": {},
   "source": [
    "Now using web scrapying let's get some data and create our dataframe"
   ]
  },
  {
   "cell_type": "code",
   "execution_count": 36,
   "id": "aeffb27d-fb1c-451a-a1e5-ab683c13ea8f",
   "metadata": {},
   "outputs": [],
   "source": [
    "html = requests.get(stocks_country).text\n",
    "soup = BeautifulSoup(html, 'html.parser')\n",
    "companyName = [x.get_text(strip=True) for x in soup.find_all('div', {'class': 'company-name'})][:10]\n",
    "companyCode = [x.get_text(strip=True) for x in soup.find_all('div', {'class': 'company-code'})][:10]\n",
    "\n",
    "now = datetime.now()\n",
    "data_source = 'yahoo'\n",
    "start_date = now - relativedelta(years=5)\n",
    "end_date = now\n",
    "dataArray = []\n",
    "for x, y in zip(companyName,companyCode):\n",
    "    d = data.DataReader(y, data_source, start_date, end_date)\n",
    "    dataArray.append(d)\n",
    "df = pd.concat(dataArray, axis=1, keys=companyName)"
   ]
  },
  {
   "cell_type": "markdown",
   "id": "dca59baa-7ddf-407a-a2fb-100ec9d85b9b",
   "metadata": {},
   "source": [
    "Let's filter some data to show the information using the Mito"
   ]
  },
  {
   "cell_type": "code",
   "execution_count": 39,
   "id": "cc085614-9936-476c-96c9-9880dc8be46e",
   "metadata": {},
   "outputs": [],
   "source": [
    "df2 = df.loc[:, 'Petrobras']"
   ]
  },
  {
   "cell_type": "code",
   "execution_count": 48,
   "id": "fd718907-2fce-4ea3-a698-118940a14541",
   "metadata": {},
   "outputs": [
    {
     "data": {
      "text/html": [
       "<div><div id=e6e4632b-9848-4959-a0cb-33757b7508fd style=\"display:none; background-color:#9D6CFF; color:white; width:200px; height:30px; padding-left:5px; border-radius:4px; flex-direction:row; justify-content:space-around; align-items:center;\" onmouseover=\"this.style.backgroundColor='#BA9BF8'\" onmouseout=\"this.style.backgroundColor='#9D6CFF'\" onclick=\"window.commands?.execute('create-mitosheet-from-dataframe-output');\">See Full Dataframe in Mito</div> <script> if (window.commands?.hasCommand('create-mitosheet-from-dataframe-output')) document.getElementById('e6e4632b-9848-4959-a0cb-33757b7508fd').style.display = 'flex' </script> <table border=\"1\" class=\"dataframe\">\n",
       "  <thead>\n",
       "    <tr style=\"text-align: right;\">\n",
       "      <th></th>\n",
       "      <th>Date</th>\n",
       "      <th>High</th>\n",
       "      <th>Low</th>\n",
       "      <th>Open</th>\n",
       "      <th>Close</th>\n",
       "      <th>Volume</th>\n",
       "      <th>Adj Close</th>\n",
       "    </tr>\n",
       "  </thead>\n",
       "  <tbody>\n",
       "    <tr>\n",
       "      <th>0</th>\n",
       "      <td>2017-06-07</td>\n",
       "      <td>8.68</td>\n",
       "      <td>8.36</td>\n",
       "      <td>8.59</td>\n",
       "      <td>8.42</td>\n",
       "      <td>25202400.0</td>\n",
       "      <td>5.579409</td>\n",
       "    </tr>\n",
       "    <tr>\n",
       "      <th>1</th>\n",
       "      <td>2017-06-08</td>\n",
       "      <td>8.47</td>\n",
       "      <td>8.30</td>\n",
       "      <td>8.36</td>\n",
       "      <td>8.41</td>\n",
       "      <td>21823900.0</td>\n",
       "      <td>5.572783</td>\n",
       "    </tr>\n",
       "    <tr>\n",
       "      <th>2</th>\n",
       "      <td>2017-06-09</td>\n",
       "      <td>8.55</td>\n",
       "      <td>8.38</td>\n",
       "      <td>8.46</td>\n",
       "      <td>8.41</td>\n",
       "      <td>15531900.0</td>\n",
       "      <td>5.572783</td>\n",
       "    </tr>\n",
       "    <tr>\n",
       "      <th>3</th>\n",
       "      <td>2017-06-12</td>\n",
       "      <td>8.50</td>\n",
       "      <td>8.36</td>\n",
       "      <td>8.42</td>\n",
       "      <td>8.36</td>\n",
       "      <td>16467500.0</td>\n",
       "      <td>5.539651</td>\n",
       "    </tr>\n",
       "    <tr>\n",
       "      <th>4</th>\n",
       "      <td>2017-06-13</td>\n",
       "      <td>8.44</td>\n",
       "      <td>8.22</td>\n",
       "      <td>8.34</td>\n",
       "      <td>8.42</td>\n",
       "      <td>12817800.0</td>\n",
       "      <td>5.579409</td>\n",
       "    </tr>\n",
       "  </tbody>\n",
       "</table></div>"
      ],
      "text/plain": [
       "        Date  High   Low  Open  Close      Volume  Adj Close\n",
       "0 2017-06-07  8.68  8.36  8.59   8.42  25202400.0   5.579409\n",
       "1 2017-06-08  8.47  8.30  8.36   8.41  21823900.0   5.572783\n",
       "2 2017-06-09  8.55  8.38  8.46   8.41  15531900.0   5.572783\n",
       "3 2017-06-12  8.50  8.36  8.42   8.36  16467500.0   5.539651\n",
       "4 2017-06-13  8.44  8.22  8.34   8.42  12817800.0   5.579409"
      ]
     },
     "execution_count": 48,
     "metadata": {},
     "output_type": "execute_result"
    }
   ],
   "source": [
    "df2.head()"
   ]
  },
  {
   "cell_type": "markdown",
   "id": "629b48d3-8934-4bac-82cd-d963ff707eec",
   "metadata": {},
   "source": [
    "On this case we have a MultiIndex so it's necessary a reset to be ready to Mito extract the data"
   ]
  },
  {
   "cell_type": "code",
   "execution_count": 46,
   "id": "0df93e1c-48aa-48ed-950c-068a4d6a2ef9",
   "metadata": {},
   "outputs": [],
   "source": [
    "df2 = df2.reset_index()"
   ]
  },
  {
   "cell_type": "markdown",
   "id": "6f76075f-3ed5-495d-b21d-c87bad082317",
   "metadata": {},
   "source": [
    "Now using mito let's prepare our data formatting the decimal and creating some charts and voila! It's done!"
   ]
  },
  {
   "cell_type": "code",
   "execution_count": 47,
   "id": "6e83c66b-6db2-48d6-8f35-cac71cc7a66f",
   "metadata": {},
   "outputs": [
    {
     "data": {
      "application/vnd.jupyter.widget-view+json": {
       "model_id": "51858216eb6547aaaf04a70137e39c3e",
       "version_major": 2,
       "version_minor": 0
      },
      "text/plain": [
       "MitoWidget(analysis_data_json='{\"analysisName\": \"id-jlxmqidkvh\", \"analysisToReplay\": {\"analysisName\": \"id-vnog…"
      ]
     },
     "metadata": {},
     "output_type": "display_data"
    }
   ],
   "source": [
    "import mitosheet\n",
    "# render the Mitosheet with the data\n",
    "mitosheet.sheet(df2, analysis_to_replay=\"id-vnogfttlhm\")"
   ]
  },
  {
   "cell_type": "code",
   "execution_count": null,
   "id": "43adee12-9b11-4f27-a1ac-e13b70bd3522",
   "metadata": {},
   "outputs": [],
   "source": []
  }
 ],
 "metadata": {
  "kernelspec": {
   "display_name": "Python 3 (ipykernel)",
   "language": "python",
   "name": "python3"
  },
  "language_info": {
   "codemirror_mode": {
    "name": "ipython",
    "version": 3
   },
   "file_extension": ".py",
   "mimetype": "text/x-python",
   "name": "python",
   "nbconvert_exporter": "python",
   "pygments_lexer": "ipython3",
   "version": "3.9.12"
  }
 },
 "nbformat": 4,
 "nbformat_minor": 5
}
